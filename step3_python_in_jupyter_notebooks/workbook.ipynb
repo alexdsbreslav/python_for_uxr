{
 "cells": [
  {
   "cell_type": "markdown",
   "metadata": {},
   "source": [
    "# Step 3: Python in Jupyter Notebooks"
   ]
  },
  {
   "cell_type": "markdown",
   "metadata": {},
   "source": [
    "Now that you've learned the basics of Python in Codeacademy; we are going to code here in Jupyter Notebooks. There are a few things that you will need to know to before you start working with data.\n",
    "\n",
    "---\n",
    "---\n",
    "---\n",
    "## 1. Navigating Jupyter Notebooks\n",
    "This document is a **Notebook!** Notebooks contain python scripts, data visualizations, and notes/ descriptions of your code and findings. **Notebooks**, in their final form, are a comprehensive and fully transparent report on your interactions with data.\n",
    "\n",
    "### Different Types of Cells\n",
    "  Jupyter Notebooks have **cells**. All of the information in this notebook are split up into and stored in cells. There are two major types of cells:\n",
    "1. The first cell is a **code cell**; this cell contains Python code. When I execute this cell, every line of code in the cell will execute in order. I also include notes that describe each line of code.  \n",
    "\n",
    "To excute this cell, click into the cell, and then hold shift and hit enter."
   ]
  },
  {
   "cell_type": "code",
   "execution_count": null,
   "metadata": {},
   "outputs": [],
   "source": [
    "# ---- save the message 'Hello World'\n",
    "message = 'Hello World'\n",
    "# ---- remove 'World' for the message\n",
    "new_message = message[:message.find(' ')]\n",
    "# ---- preview the new_message variable\n",
    "new_message"
   ]
  },
  {
   "cell_type": "markdown",
   "metadata": {},
   "source": [
    "2. This second cell is a **markdown cell**; this cell contains formatted text written in syntax called markdown. When I execute this cell, it turns the words + syntax into formatted text.\n",
    "\n",
    "To excute this cell, click into the cell and hold shift and hit enter."
   ]
  },
  {
   "cell_type": "markdown",
   "metadata": {},
   "source": [
    "**I use bold text** to indicate key words. `I use this format` to indicate code."
   ]
  },
  {
   "cell_type": "markdown",
   "metadata": {},
   "source": [
    "Notebooks serve two key purposes:\n",
    "1. You can write Python code in here; moving forward, you'll write Python scripts that clean, describe, and visualize your data.\n",
    "2. You can also write notes and descriptions; these notes and descriptions will turn your code from a dense, uninterpretable, string of code into a clear and accessible report of what your code does."
   ]
  },
  {
   "cell_type": "markdown",
   "metadata": {},
   "source": [
    "### Create Cells, Delete Cells, and Change the Cell Type"
   ]
  },
  {
   "cell_type": "markdown",
   "metadata": {},
   "source": [
    "Just like in Excel, you can click on the text in a cell, or click on the cell itself.  \n",
    "- Double click on the text in this cell.\n",
    "- Change this line of text to whatever you want.\n",
    "- Now, hold shift and hit enter to execute this cell."
   ]
  },
  {
   "cell_type": "markdown",
   "metadata": {},
   "source": [
    "Notice that the blue bar (just to left) jumped down to this cell. Now this cell is selected. \n",
    "- Select the cell just below this one by clicking in the margin to the left of the cell. You should see the blue bar jump to that cell. "
   ]
  },
  {
   "cell_type": "markdown",
   "metadata": {},
   "source": [
    "- Now add a new cell below this one, by hitting `b` on your keyboard (b is short for below).\n",
    "- Inside your new cell, type `print('I just created a new code cell')` and hold shift and press enter to execute."
   ]
  },
  {
   "cell_type": "markdown",
   "metadata": {},
   "source": [
    "When you create new cell, it defaults to **cell code**; let's turn it into a **markdown cell**.\n",
    "- Click *on the cell* above (by clicking in the left margin) with your message and hit `m` on your keyboard\n",
    "- Click *into the cell* and put asterisks around the code, like `*print('I just created a new code cell')*`\n",
    "- Hold shift and hit enter to execute the code - you should see it turned into italicized text.\n",
    "\n",
    "You can add new cells above your current cell by hitting `a` on your keyboard. You can delete cells by click on the cell and typing `dd` (d twice) on your keyboard. You can turn a cell back into a code cell by typing `y`.\n",
    "- Delete the cell above by clicking on it and typing `dd`"
   ]
  },
  {
   "cell_type": "markdown",
   "metadata": {},
   "source": [
    "### Other Resources for Navigating Jupyter Notebooks\n",
    "Here is a [cheat sheet](https://github.com/adam-p/markdown-here/wiki/Markdown-Cheatsheet) on how to format text in markdown."
   ]
  },
  {
   "cell_type": "markdown",
   "metadata": {},
   "source": [
    "### Recap\n",
    "1. Jupyter Notebook (in their final form) are not just coding scripts, they are comprehensive reports on what your code does and what you found with your code.\n",
    "1. Jupyter Notebooks have code cells and markdown cells.\n",
    "2. Hotkeys:\n",
    "    - `a` add cell above\n",
    "    - `b` add cell below\n",
    "    - `dd` delete cell\n",
    "    - `m` turn cell into a markdown cell\n",
    "    - `y` turn cell into a code cell"
   ]
  },
  {
   "cell_type": "markdown",
   "metadata": {},
   "source": [
    "---\n",
    "## 2. Getting packages into your Jupyter Notebook\n",
    "When you open an excel file, all of the functionality is built in. You can create data, change it, visualize it etc. When we open a Jupyter Notebook, we can only use functions that are built into python. One of thse built-in functions is the `print()`. But let's back up for a second - how are functions and packages related?\n",
    "- **Function**: A function takes an input and will do something or create something. A basic function is the print function. `print()` takes the input 'Hello World' (a string) and outputs a preview of the string.\n",
    "- **Module**: A collection of functions.\n",
    "- **Package**: A collection of modules.\n",
    "\n",
    "When we import **packages**, it adds the functionality of those packages to this notebook. From now on, at the top of every notebook you create, you'll import a set of packages.\n",
    "\n",
    "- Execute the cell below to load the pandas package into our notebook."
   ]
  },
  {
   "cell_type": "code",
   "execution_count": null,
   "metadata": {},
   "outputs": [],
   "source": [
    "import pandas as pd"
   ]
  },
  {
   "cell_type": "markdown",
   "metadata": {},
   "source": [
    "Pandas is a package that helps us interact with our data as a table. Notice that I imported `pandas as pd`; this saves time later because I can refer to pandas package as pd, rather than writing out pandas."
   ]
  },
  {
   "cell_type": "markdown",
   "metadata": {},
   "source": [
    "### Recap\n",
    "1. Importing packages adds functions that we want to our notebook\n",
    "2. Always import pandas, numpy, and os at the top of your notebook"
   ]
  },
  {
   "cell_type": "markdown",
   "metadata": {},
   "source": [
    "---\n",
    "## 3. Data Previews Versus Saved Variables\n",
    "Jupyter Lab lets you preview your data. If you type a variable into a cell and execute that cell, a preview will pop up in your Notebook. `'Hello World'` is a string.\n",
    "- Type `'Hello World'` into the cell below and execute the cell.  \n",
    "\n",
    "You'll see a preview of that data below the cell."
   ]
  },
  {
   "cell_type": "code",
   "execution_count": null,
   "metadata": {},
   "outputs": [],
   "source": []
  },
  {
   "cell_type": "markdown",
   "metadata": {},
   "source": [
    "If you want to save `'Hello World'` so that you can access it later in your notebook, you need to save it as a variable.\n",
    "- Type `message = 'Hello World` into the cell below and execute the cell.\n",
    "\n",
    "Notice that when you execute the cell, you do not see a preview of the data."
   ]
  },
  {
   "cell_type": "code",
   "execution_count": null,
   "metadata": {},
   "outputs": [],
   "source": []
  },
  {
   "cell_type": "markdown",
   "metadata": {},
   "source": [
    "- Now type `message` into the cell below and execute the cell. You'll see a preview of the variable."
   ]
  },
  {
   "cell_type": "code",
   "execution_count": null,
   "metadata": {},
   "outputs": [],
   "source": []
  },
  {
   "cell_type": "markdown",
   "metadata": {},
   "source": [
    "If you run code later in your notebook that messes with the variable `message`, you'll change how it is represented in your notebook.\n",
    "- In the cell below, type `message = 'other message that I just made up'`\n",
    "- In the same cell, on the line below, type `message` and execute the cell.\n",
    "\n",
    "Remember that all lines of code in a cell are executed in order."
   ]
  },
  {
   "cell_type": "code",
   "execution_count": null,
   "metadata": {},
   "outputs": [],
   "source": []
  },
  {
   "cell_type": "markdown",
   "metadata": {},
   "source": [
    "We've changed what is saved in the variable `message`. When you code, make sure you use descriptive labels for variables; you'll run into lots of unexpected errors if you label things generically like `a` or `variable`.\n",
    "\n",
    "You also want to keep your notebook clean. If you want to create a variable in one cell that you know you will not need later, delete it! Notice in the code below that I am testing something; I delete the variable tmp_message so I don't clutter things later and cause unexpected issues.\n",
    "\n",
    "- Execute the code below (we'll need it for later!)"
   ]
  },
  {
   "cell_type": "code",
   "execution_count": null,
   "metadata": {},
   "outputs": [],
   "source": [
    "# ---- I want to test if I can add a 2 to a text field\n",
    "tmp_message = 'test'\n",
    "# ---- append 2 to my original message\n",
    "altered_message = 'test' + str(2)\n",
    "# ---- delete the original message\n",
    "del tmp_message\n",
    "# ---- preview new message\n",
    "altered_message"
   ]
  },
  {
   "cell_type": "markdown",
   "metadata": {},
   "source": [
    "### Recap\n",
    "- You can preview data in JupterLab by typing a variable into a cell and executing that cell.\n",
    "- To save data to reference later, you need to save it as a variable.\n",
    "- Label your data with descriptive names!\n",
    "- Delete variables that you will not need later."
   ]
  },
  {
   "cell_type": "markdown",
   "metadata": {},
   "source": [
    "---\n",
    "## 4. Deciphering Error Messages\n",
    "You will make *a lot* of errors and desciphering what went wrong will be confusing.  \n",
    "When you get an error message, it will often print out this long list of gibberish.  \n",
    "Most of it is useless; the information that you want is:\n",
    "1. Which line of code (that you wrote) is not working?\n",
    "2. Scroll to the bottom of the error message...what is the error code?\n",
    "\n",
    "Error codes won't be super useful when you start out, but they'll start to make sense as you read documentation and make similar mistakes over and over again :).\n",
    "\n",
    "- Take a look at the code in the cell below; read the notes to get a basic gist of what it is doing.\n",
    "- Execute the code in the cell."
   ]
  },
  {
   "cell_type": "code",
   "execution_count": null,
   "metadata": {},
   "outputs": [],
   "source": [
    "# ---- create a list of numbers\n",
    "list_of_numbers = [i for i in range(10)]\n",
    "# ---- add the message to my list of numbers\n",
    "list_of_numbers_and_tmp_message = list_of_numbers + [tmp_message]\n",
    "# ---- preview the first item in my new list\n",
    "list_of_numbers_and_tmp_message[0]"
   ]
  },
  {
   "cell_type": "markdown",
   "metadata": {},
   "source": [
    "I deleted the variable `tmp_message` in an earlier cell! There is no variable in our Notebook named `tmp_message`, so I get an error.  \n",
    "`list_of_numbers_and_tmp_message = list_of_numbers + [tmp_message]` caused the error.  \n",
    "The error was a `NameError`."
   ]
  },
  {
   "cell_type": "markdown",
   "metadata": {},
   "source": [
    "### Recap\n",
    "When you get an error message, sift through and find:\n",
    "1. The line of code (that you wrote) is not working.\n",
    "2. The specific error at the bottom of the error message."
   ]
  },
  {
   "cell_type": "markdown",
   "metadata": {},
   "source": [
    "---\n",
    "## 5. Tips on Reading Documentation\n",
    "You should and will use Google constantly while you are coding. You'll get stuck and need help with error, or you won't even know where to start. There are *tons* of resources out in the world when you Google \"how do I do this thing...?\"  \n",
    "\n",
    "However, resources are often very hard to decipher for people just learning how to code. I think that the primary determinant of how fast you code (particularly as you are learning) is how quickly you can identify and intepret reliable sources of information.\n",
    "\n",
    "As often as possible, we want to stick to documentation written by the people who built the package we are using.  \n",
    "The documentation for popular packages are structured, well-maintained, and a bit easier to get a handle on than people's random responses on stackoverflow.\n",
    "\n",
    "- [Click here](https://pandas.pydata.org/pandas-docs/stable/reference/api/pandas.DataFrame.loc.html) to open a page of documentation for the package pandas. Put this notebook and the documentation side-by-side.\n",
    "\n",
    "We will use pandas a lot. This documentation is for the function `.loc[]`; you'll use this function a lot. This function helps your select parts of your data table.\n",
    "\n",
    "When I open documentation, I like to start by looking at the examples. At a quick glance, you can tell if this function does the thing you are trying to do.\n",
    "\n",
    "- Scroll down to the examples and look at the first cell titled *Getting values*\n",
    "\n",
    "These examples will almost always start with the author creating an arbritrary set of data as an example. Take a second and figure out what the data are in the example. The author created a data table with columns `['max_speed', 'shield']` and rows `['cobra', 'viper', 'sidewinder']`.\n",
    "\n",
    "- Scroll through the examples - what inputs are they putting into the function? What outputs are they getting?\n",
    "- Now that you've seen the function in action, scroll back to the top. Here they actually list out the various types of input that this function will take.\n",
    "- Look for the header *Raises:*; this tells us what error we should expect if we make a mistake. \n",
    "- Execute the code in the cell below. You'll get a long error message.\n",
    "- Scroll to the bottom of the error message and you'll see that you get a `KeyError` just as the documentation predicted. We got this error, because `cotton_mouth` is not a row in our dataframe."
   ]
  },
  {
   "cell_type": "code",
   "execution_count": null,
   "metadata": {},
   "outputs": [],
   "source": [
    "# ---- create the dataframe from the example in the documentation\n",
    "df = pd.DataFrame([[1, 2], [4, 5], [7, 8]],\n",
    "     index=['cobra', 'viper', 'sidewinder'],\n",
    "     columns=['max_speed', 'shield'])\n",
    "# ---- locate the row labeled cotton_mouth\n",
    "df.loc['cotton_mouth']"
   ]
  },
  {
   "cell_type": "markdown",
   "metadata": {},
   "source": [
    "Finally, look at the *See also* box. These are functions that are related to the .loc function. These are really helpful when the function that you know by name doesn't quite accomplish what you need it to, but you're not sure what to search for. "
   ]
  },
  {
   "cell_type": "markdown",
   "metadata": {},
   "source": [
    "### Recap\n",
    "1. You will need to Google constantly as code; the key is identifying reliable sources that are accessible and intepretable.\n",
    "2. As often as possible, stick to documentation written by people who wrote the package.\n",
    "3. Start with the examples.\n",
    "4. When reading documentation: identify what inputs the function takes, what output the function creates, and what error you should expect if you  mess up?"
   ]
  },
  {
   "cell_type": "markdown",
   "metadata": {},
   "source": [
    "---\n",
    "---\n",
    "---\n",
    "# Nice job!\n",
    "You know have foundational knowledge in all thin"
   ]
  }
 ],
 "metadata": {
  "kernelspec": {
   "display_name": "Python [conda env:202003_update]",
   "language": "python",
   "name": "conda-env-202003_update-py"
  },
  "language_info": {
   "codemirror_mode": {
    "name": "ipython",
    "version": 3
   },
   "file_extension": ".py",
   "mimetype": "text/x-python",
   "name": "python",
   "nbconvert_exporter": "python",
   "pygments_lexer": "ipython3",
   "version": "3.8.2"
  }
 },
 "nbformat": 4,
 "nbformat_minor": 4
}
