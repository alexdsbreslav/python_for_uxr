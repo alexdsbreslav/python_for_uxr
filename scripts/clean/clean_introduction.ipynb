{
 "cells": [
  {
   "cell_type": "markdown",
   "metadata": {},
   "source": [
    "# An Introduction to Cleaning Your Data: Explore and Experiment with DataFrames"
   ]
  },
  {
   "cell_type": "markdown",
   "metadata": {},
   "source": [
    "Now that you've learned the basics of Python in Codeacademy, we are going to explore and experiment in this Jupyter Notebook.  \n",
    "I've laid out 7 steps that you'll need to clean data; this is a basic structure so that you learn the various functions that you'll need later on.  \n",
    "The goal here is to mess around with all of these functions and learn through trial-and-error."
   ]
  },
  {
   "cell_type": "markdown",
   "metadata": {},
   "source": [
    "To clean the data we need to:\n",
    "1. **Get our notebook ready** to clean the data.\n",
    "2. **Import** the raw data.\n",
    "3. Understand **what the data are** and **how the data are stored**.\n",
    "4. **Change data** that are not stored in the way that best fits our needs.\n",
    "5. **Delete data** that we do not want.\n",
    "6. **Create data** that we need.\n",
    "7. **Export** the cleaned data. "
   ]
  },
  {
   "cell_type": "markdown",
   "metadata": {},
   "source": [
    "## 1. Get Our Notebook Ready"
   ]
  },
  {
   "cell_type": "markdown",
   "metadata": {},
   "source": [
    "We always import pacakges at the the top of our script.  \n",
    "For now, the only packages that we need are `pandas`, `numpy`, and `os`.  \n",
    "- pandas will help us interact with your data as a table, people call tables in pandas **dataframes**\n",
    "- numpy is our math package; this will help us alter and create data\n",
    "- os helps us define filepaths and load data into our notebook\n",
    "\n",
    "**To import each of these packages**, you want to run all three lines of code within the cell.  \n",
    "To run these lines of code, select anywhere in the cell and hit `shift + enter` (you don't need to highlight the code).  \n",
    "As the code runs, you'll see an asterisk [*] appear in the brackets to the left of the cell, and once it is done, you'll see a number [1].   \n",
    "That number means that the cell ran all three lines of code and all of those packages are imported into your notebook."
   ]
  },
  {
   "cell_type": "code",
   "execution_count": 1,
   "metadata": {},
   "outputs": [],
   "source": [
    "import pandas as pd\n",
    "import numpy as np\n",
    "import os"
   ]
  },
  {
   "cell_type": "markdown",
   "metadata": {},
   "source": [
    "**Notice** that I imported `pandas as pd` and `numpy as np`; I am just changing the name that I use to refer to the package to save time later."
   ]
  },
  {
   "cell_type": "markdown",
   "metadata": {},
   "source": [
    "---\n",
    "Quick tangent on interacting with Jupyter Notebooks:  \n",
    "1. To add a cell below this one, click on this cell, and hit `b`.\n",
    "2. Click on your new cell and hit `a` to add a cell above it; if you just typed an `a` in the cell, rather than adding a new cell, hit `esc` and then hit `a`\n",
    "3. To delete these new cells, click the cell and hit `dd` (`d` twice)\n",
    "\n",
    "Create a new cell and turn it into a Markdown cell by pressing `m`. Markdown is a syntax to create formatted text.  \n",
    "Type some stuff out and run the cell (`shift + enter`); here is a [link](https://github.com/adam-p/markdown-here/wiki/Markdown-Cheatsheet) for info on how to format Markdown text.  \n",
    "Now click on the link and turn in back into a code cell by pressing `y`.\n",
    "\n",
    "---"
   ]
  },
  {
   "cell_type": "markdown",
   "metadata": {},
   "source": [
    "## 2. Import the Raw Data"
   ]
  },
  {
   "cell_type": "markdown",
   "metadata": {},
   "source": [
    "To import the raw data, we need to tell JupyterLab where to find it.  \n",
    "To direct JupyterLab to the data file, we need to define a file path.  \n",
    "To define a file path, we need to know how to interact with our packages.  \n",
    "- `os` is a **package**; packages are a collection of **modules**.    \n",
    "- `path` is a **module** within the package; modules are a collection of **functions**.  \n",
    "- `abspath()` is a **function** within the path module, within the os package.  \n",
    "notice the parantheses at the end of `abspath()` &rarr; this means it is a function; functions take an input and will do something or create something\n",
    "\n",
    "`os.path.abspath()` with `''` as an input will tell me what file directory I am currently working in.\n",
    "\n",
    "**To figure out what file directory (or folder) we are currently working in...**\n",
    "1. Click on the cell below.\n",
    "2. Type `os.path.abspath('')` into the cell.\n",
    "3. Hit `shift + enter` to run the line of code"
   ]
  },
  {
   "cell_type": "code",
   "execution_count": null,
   "metadata": {},
   "outputs": [],
   "source": []
  },
  {
   "cell_type": "markdown",
   "metadata": {},
   "source": [
    "This prints out the file directory that we are currently working in to JupyterLab.  \n",
    "If we look in our finder, we can see that this filepath refers to where or Jupyter Notebook file is saved.\n",
    "\n",
    "If we print something out to JupyterLab, it isn't saved anywhere.  \n",
    "I want to save the filepath to refer back to later.  \n",
    "\n",
    "**To save the filepath...**\n",
    "1. Type `current_directory = os.path.abspath('')`\n",
    "2. Hit `shift + enter` to run the line of code"
   ]
  },
  {
   "cell_type": "code",
   "execution_count": null,
   "metadata": {},
   "outputs": [],
   "source": []
  },
  {
   "cell_type": "markdown",
   "metadata": {},
   "source": [
    "Notice that nothing prints out into JupyterLab; let's print out the data again to make sure it saved correctly.\n",
    "\n",
    "**To see if it saved correctly...**\n",
    "1. Type `current_directory` and run the code"
   ]
  },
  {
   "cell_type": "code",
   "execution_count": null,
   "metadata": {},
   "outputs": [],
   "source": []
  },
  {
   "cell_type": "markdown",
   "metadata": {},
   "source": [
    "---\n",
    "Now the data that we created using the **function** `os.path.abspath()` given the **input** `''`, is saved in the **variable** `current_directory`.\n",
    "\n",
    "---"
   ]
  },
  {
   "cell_type": "markdown",
   "metadata": {},
   "source": [
    "Next, we want to figure out where the data are **relative** to our current directory. These are called **relative paths**; defining filepaths relative to where your notebook is is really important for other people to be able to run your code.  \n",
    "Imagine opening your finder and locating this Jupyter Notebook file; when we create a **relative path**, it is like giving someone instructions on how to navigate from this Jupyter Notebook file to the raw data file.  \n",
    "\n",
    "**First, we need to go up to the GitHub folder that our clean and data folder are in by using `dirname()`; then we'll specify where the data file is from the GitHub folder using `join()`.**  \n",
    "1. Create the variable `analysis_directory` by running `analysis_directory = os.path.dirname(current_directory)`\n",
    "2. Create the variable `data_filepath` by running `data_filepath = os.path.join(analysis_directory, 'data', 'raw_data', 'YOUR FILE NAME')`\n",
    "    - YOUR FILE NAME should look something like `survey_data.xlsx` or `data_from_study.csv`"
   ]
  },
  {
   "cell_type": "code",
   "execution_count": null,
   "metadata": {},
   "outputs": [],
   "source": []
  },
  {
   "cell_type": "markdown",
   "metadata": {},
   "source": [
    "3. print the `data_filepath` to make sure that the filepath was specified correctly..."
   ]
  },
  {
   "cell_type": "code",
   "execution_count": null,
   "metadata": {},
   "outputs": [],
   "source": []
  },
  {
   "cell_type": "markdown",
   "metadata": {},
   "source": [
    "Now that we have defined where the data are, we are going to use `pandas` to load the data into our notebook.\n",
    "If you have an excel file, you are going to use the `read_excel()` function; if you have a csv file, you are going to use the `read_csv()` function in `pandas`.  \n",
    "These read functions take the `data_filepath` as the input.\n",
    "\n",
    "**To import your data in JupyterLab...**\n",
    "1. Type `raw_data = pd.read_csv(data_filepath)`\n",
    "    - swap out `read_csv` with `read_excel` if needed\n",
    "2. Print the data to make sure that it loaded correctly"
   ]
  },
  {
   "cell_type": "code",
   "execution_count": null,
   "metadata": {},
   "outputs": [],
   "source": []
  },
  {
   "cell_type": "markdown",
   "metadata": {},
   "source": [
    "Now you have your data in JupyterLab! It is stored as a pandas **[DataFrame](https://pandas.pydata.org/pandas-docs/stable/reference/api/pandas.DataFrame.html)** .  \n",
    "DataFrames have an **[Index](https://pandas.pydata.org/pandas-docs/stable/reference/api/pandas.Index.html)**; the indices are the row numbers and the column names.  \n",
    "DataFrames are made up or rows as columns; each row or each column by itself is a **[Series](https://pandas.pydata.org/pandas-docs/stable/reference/api/pandas.Series.html)** .  \n",
    "\n",
    "**Let's save a copy of the data as `df` (short for DataFrame)**; this way, we'll always be able to refer back to the raw data without loading it back in from the file.  \n",
    "Run the line of code below and from here on, we'll only mess around with our data as `df`."
   ]
  },
  {
   "cell_type": "code",
   "execution_count": null,
   "metadata": {},
   "outputs": [],
   "source": [
    "df = raw_data.copy()"
   ]
  },
  {
   "cell_type": "markdown",
   "metadata": {},
   "source": [
    "## 3. What Are the Data & How Are They Stored\n",
    "---\n",
    "**Now that we are here, a quick note on error messages:**  \n",
    "You will make *a lot* of errors and desciphering what went wrong will be confusing.  \n",
    "When you get an error message, it will print out this long list of gibberish.  \n",
    "Most of it is useless; the information that you want is:\n",
    "1. Which line of code (that you wrote) is not working?\n",
    "2. Scroll to the bottom of the error message...what is the error code?\n",
    "\n",
    "Error codes won't be super useful when you start out, but they'll start to make sense as you read documentation and make similar mistakes over and over again :).\n",
    "\n",
    "---"
   ]
  },
  {
   "cell_type": "markdown",
   "metadata": {},
   "source": [
    "**The goal of this section** is to use a bunch of different functions to grab chunks of your data from your DataFrame.  \n",
    "To change, delete, or manipulate data you'll need to be able to select portions of it.\n",
    "\n",
    "For each of the data types:\n",
    "1. Using the functions below, select and print a chunk of data into Jupyter Lab\n",
    "2. To confirm that type of data that you've selected, run `type(your data selection)`\n",
    "\n",
    "Data types to select:\n",
    "- DataFrame\n",
    "- Series\n",
    "- String\n",
    "- Integer\n",
    "- Float"
   ]
  },
  {
   "cell_type": "code",
   "execution_count": null,
   "metadata": {},
   "outputs": [],
   "source": []
  },
  {
   "cell_type": "markdown",
   "metadata": {},
   "source": [
    "**These links will take you to documentation that provides more info about the function**  \n",
    "[df.loc[]](https://pandas.pydata.org/pandas-docs/stable/reference/api/pandas.DataFrame.loc.html), \n",
    "[df.iloc[]](https://pandas.pydata.org/pandas-docs/stable/reference/api/pandas.DataFrame.iloc.html)  \n",
    "I'd recommend looking at the examples (at the bottom) first.  \n",
    "Then scroll back up to the top and learn what information goes into the function, what comes out, and what types of errors will come out if you make a mistake.  \n",
    "The blue boxes contain functions that are related/do similar things.\n",
    "\n",
    "Key functions:\n",
    "- **Indexing** Select specific chunks using the indices [can return a single value, Series, or DataFrame]:\n",
    "    - [`df.loc[name of your row, name of your column]`](https://pandas.pydata.org/pandas-docs/stable/reference/api/pandas.DataFrame.loc.html)\n",
    "    - [`df.iloc[index of your row, index of your column]`](https://pandas.pydata.org/pandas-docs/stable/reference/api/pandas.DataFrame.iloc.html)\n",
    "- Select a column [returns a Series]:\n",
    "    - `df.your_column` or `df['your_column']` (either syntax works)\n",
    "- Select multiple columns [returns a DataFrame]:\n",
    "    - `df[your list of columns]` where the list of columns:\n",
    "        - Can name columns explicitly ['column1', 'column2']\n",
    "        - Or use **list comprehension** to choose columns using a conditional like `[i for i in df.columns if 'outcome' in i]`\n",
    "- **Masking** Creating a mask [returns a DataFrame] like `df[conditional statement]` where conditional statement can be things like:\n",
    "    - `df.your_column == your value`\n",
    "    - `df.your_column != your value`\n",
    "    - `df.your_column.isin([your list])`\n",
    "    - `df.your_column.notnull()`\n",
    "    - `df.your_column.isnull()`\n",
    "    \n",
    "---\n",
    "**Notice** which of these **functions** use brackets `[]` rather than parentheses `()`; functions that slice/select data use brackets &rarr; check out this [link](https://lerner.co.il/2018/06/08/python-parentheses-primer/) for more detailed info on when to use `[]`vs.`()`vs.`{}`\n",
    "\n",
    "**Notice** that these functions are called right on the data `df.rename()`, rather than being called from a module like `os.path.abspath()`. DataFrames have **attributes**; attributes are functions that work directly on the data.\n",
    "\n",
    "---"
   ]
  },
  {
   "cell_type": "markdown",
   "metadata": {},
   "source": [
    "## 4. Change Data\n",
    "**The goal of this section** is to use the functions/techniques below to change the data in your DataFrame.  \n",
    "Try to use each of the functions below to change a chunk of data in your DataFrame."
   ]
  },
  {
   "cell_type": "code",
   "execution_count": null,
   "metadata": {},
   "outputs": [],
   "source": []
  },
  {
   "cell_type": "markdown",
   "metadata": {},
   "source": [
    "**These links will take you to documentation that provides more info about the function**  \n",
    "[df.rename()](https://pandas.pydata.org/pandas-docs/stable/reference/api/pandas.DataFrame.rename.html), \n",
    "[df.replace()](https://pandas.pydata.org/pandas-docs/stable/reference/api/pandas.DataFrame.replace.html), \n",
    "[df.your_column.map()](https://pandas.pydata.org/pandas-docs/stable/reference/api/pandas.Series.map.html)\n",
    "\n",
    "Key functions:\n",
    "- [`df.rename()`](https://pandas.pydata.org/pandas-docs/stable/reference/api/pandas.DataFrame.rename.html)\n",
    "- [`df.replace()`](https://pandas.pydata.org/pandas-docs/stable/reference/api/pandas.DataFrame.replace.html)\n",
    "- [`df.your_column.map()`](https://pandas.pydata.org/pandas-docs/stable/reference/api/pandas.Series.map.html)\n",
    "- `df.loc[your row_name, your column_name] = your value`"
   ]
  },
  {
   "cell_type": "markdown",
   "metadata": {},
   "source": [
    "## 5. Delete Data\n",
    "**The goal of this section** is to use the functions/techniques below to delete data in your DataFrame.  \n",
    "Try to use each of the functions below to remove a chunk of data from your DataFrame."
   ]
  },
  {
   "cell_type": "code",
   "execution_count": null,
   "metadata": {},
   "outputs": [],
   "source": []
  },
  {
   "cell_type": "markdown",
   "metadata": {},
   "source": [
    "**These links will take you to documentation that provides more info about the function**  \n",
    "[df.drop()](https://pandas.pydata.org/pandas-docs/stable/reference/api/pandas.DataFrame.drop.html)\n",
    "\n",
    "Key functions:\n",
    "- [`df.drop()`](https://pandas.pydata.org/pandas-docs/stable/reference/api/pandas.DataFrame.drop.html)\n",
    "- Save the dataframe as only portion of the data using a mask or indexing\n",
    "    - `df = df[df.your_column > your value]`\n",
    "    - `df = df.loc[:, ['column1', 'column2']]` &rarr; `:` returns all rows and you can use a list of columns with the `.loc[]` indexing function"
   ]
  },
  {
   "cell_type": "markdown",
   "metadata": {},
   "source": [
    "## 6. Create Data\n",
    "**The goal of this section** is to use the functions/techniques below to create/add data to your DataFrame.  \n",
    "Try to use each of the functions below to add new data to your DataFrame."
   ]
  },
  {
   "cell_type": "code",
   "execution_count": null,
   "metadata": {},
   "outputs": [],
   "source": []
  },
  {
   "cell_type": "markdown",
   "metadata": {},
   "source": [
    "**These links will take you to documentation that provides more info about the function**  \n",
    "[np.where()](https://numpy.org/doc/stable/reference/generated/numpy.where.html)\n",
    "\n",
    "Key functions (click links for info):\n",
    "- `df['new column name'] = your value or some function that creates data` where functions to create data include:\n",
    "    - [`np.where()`](https://numpy.org/doc/stable/reference/generated/numpy.where.html)\n",
    "    - list comprehensions:\n",
    "        - `[i for i in range(len(df))]` &rarr; creates a list of values from 0 to n, where n in the length of your DataFrame\n",
    "        - `[i if i > 1 else i*10 for i in df.your_column]` &rarr; creates a list of values based on another column and a conditional\n",
    "        - `[df.loc[idx, 'column1'] if df.loc[idx,'column0'] == TRUE else df.loc[idx,'column2'] for idx in df.index]` &rarr; creates a list that combines the values from two columns based on a conditional"
   ]
  },
  {
   "cell_type": "markdown",
   "metadata": {},
   "source": [
    "## 7. Export the Cleaned Data\n",
    "Last, we'll export the \"cleaned data\" (here it might just be changed in a bunch of ways) to files in the finder.  \n",
    "This is standardized code that we'll use later; here if you type in the date and the name of some scale and run the code, you'll see how everything saves.  "
   ]
  },
  {
   "cell_type": "code",
   "execution_count": null,
   "metadata": {},
   "outputs": [],
   "source": [
    "# ---- date in the form year, month, day (yyyymmdd)\n",
    "date =\n",
    "# ---- abbreviation of the scale (e.g. CEBQ)\n",
    "scale = \n",
    "\n",
    "# ---- export to excel\n",
    "df.to_excel(os.path.join(os.path.dirname(os.path.abspath('')), 'cleaned_data', '{}_cleaned_{}.xlsx'.format(date, scale)))\n",
    "\n",
    "# ---- export to open source format\n",
    "df.to_hdf(os.path.join(os.path.dirname(os.path.abspath('')), 'cleaned_data', '{}_cleaned_{}.h5'.format(date, scale)), 'data')\n",
    "\n",
    "del date, scale"
   ]
  }
 ],
 "metadata": {
  "kernelspec": {
   "display_name": "Python [conda env:thriving_spring2020]",
   "language": "python",
   "name": "conda-env-thriving_spring2020-py"
  },
  "language_info": {
   "codemirror_mode": {
    "name": "ipython",
    "version": 3
   },
   "file_extension": ".py",
   "mimetype": "text/x-python",
   "name": "python",
   "nbconvert_exporter": "python",
   "pygments_lexer": "ipython3",
   "version": "3.8.2"
  }
 },
 "nbformat": 4,
 "nbformat_minor": 4
}
